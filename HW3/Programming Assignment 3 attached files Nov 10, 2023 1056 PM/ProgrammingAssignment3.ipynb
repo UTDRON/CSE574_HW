{
 "cells": [
  {
   "cell_type": "markdown",
   "metadata": {},
   "source": [
    "# Programming Assignment 3"
   ]
  },
  {
   "cell_type": "markdown",
   "metadata": {},
   "source": [
    "## Note:\n",
    "* Refer `ch07_Sparse_Kernel_Machines.ipynb` and `CSE474_SVM_example_code.zip` shared by the professor on UBLearns"
   ]
  },
  {
   "cell_type": "markdown",
   "metadata": {},
   "source": [
    "## Section 1 : Sparse Kernel Machines using PRML"
   ]
  },
  {
   "cell_type": "markdown",
   "metadata": {},
   "source": [
    "### 1a. Maximum Margin Classifiers\n",
    "* Consider the given `x_train` and `y_train`\n",
    "* `C` is the penalty parameter for misclassification. Plot the maximum margin classifier with C=0.05, C=0.1, and C=1 (example : SupportVectorClassifier(PolynomialKernel(degree=1), C=0.1))\n",
    "* Explain your observations on \n",
    "    * how does `C` affect the margin and classification?"
   ]
  },
  {
   "cell_type": "code",
   "execution_count": 1,
   "metadata": {},
   "outputs": [],
   "source": [
    "import numpy as np\n",
    "import matplotlib.pyplot as plt\n",
    "%matplotlib inline\n",
    "import pandas as pd\n",
    "from sklearn.model_selection import train_test_split\n",
    "from sklearn.svm import SVC\n",
    "from sklearn.decomposition import PCA\n",
    "from sklearn.discriminant_analysis import LinearDiscriminantAnalysis\n",
    "from sklearn.preprocessing import StandardScaler\n",
    "from sklearn.metrics import accuracy_score, precision_score, recall_score, f1_score, classification_report, confusion_matrix\n",
    "from sklearn.svm import LinearSVC\n",
    "from prml.kernel import (\n",
    "    RBF,\n",
    "    PolynomialKernel,\n",
    "    SupportVectorClassifier\n",
    ")\n",
    "\n",
    "np.random.seed(1234)"
   ]
  },
  {
   "cell_type": "code",
   "execution_count": 2,
   "metadata": {},
   "outputs": [],
   "source": [
    "x_train = np.array([[ 2.58, -2.94], [-2.44, -2.2 ], [ 0.76, -1.43], [ 0.5 ,  0.33], \n",
    "[-1.8 ,  0.94], [ 2.66, -0.86], [-2.81, -0.16], [-2.6 , -0.  ], [ 1.15, -2.54], \n",
    "[-1.62, -0.02], [ 0.26, -0.03], [ 1.81, -1.15], [-2.32,  0.36], [ 1.61, -0.39], \n",
    "[-2.5 ,  0.59], [ 2.08, -1.9 ], [ 2.48, -2.38], [-2.24, -2.98], [ 1.71,  0.36], \n",
    "[ 0.96,  0.13], [ 1.77, -1.49], [ 0.18, -2.66], [-2.18, -2.15], [ 0.98, -2.35], \n",
    "[ 1.54, -0.27], [ 1.16, -0.86], [ 1.61,  1.9 ], [ 2.56, -1.76], [ 0.61, -2.79], \n",
    "[-1.24, -2.75], [-2.42, -1.19], [-2.64,  0.5 ], [ 1.35,  1.5 ], [ 1.19, -2.32], \n",
    "[-1.28, -1.43], [-2.6 , -2.99], [-1.38, -2.8 ], [-0.19,  0.24], [-1.77, -1.63], \n",
    "[ 0.92, -2.88], [-1.2 , -0.12], [ 0.13,  2.75], [ 1.56,  1.82], [-1.02, -0.74], \n",
    "[ 1.12,  1.24], [-2.33, -1.39], [-2.82, -0.59], [-2.96,  1.01], [ 2.21, -0.75], \n",
    "[-1.31, -2.39]])\n",
    "\n",
    "y_train = np.array([-1,-1,-1,1,-1,1,-1,-1,-1,-1,1,1,-1,1,-1,1,1,-1,1,1,1,-1,-1,-1\n",
    ",1,1,1,1,-1,-1,-1,-1,1,-1,-1,-1,-1,1,-1,-1,-1,1,1,-1,1,-1,-1,-1\n",
    ",1,-1])\n"
   ]
  },
  {
   "cell_type": "code",
   "execution_count": 3,
   "metadata": {},
   "outputs": [],
   "source": [
    "# your code goes here\n"
   ]
  },
  {
   "cell_type": "markdown",
   "metadata": {},
   "source": [
    "### 1b. Support Vector Classifier with RBF Kernel\n",
    "* Consider the given `x_train` and `y_train`\n",
    "* `C` is the penalty parameter for misclassification. Plot the maximum margin classifier with C=0.05, C=0.1, and C=1 (example : SupportVectorClassifier(RBF(), C=0.1))\n",
    "* Explain your observations on \n",
    "    * how does `C` affect the margin and classification?"
   ]
  },
  {
   "cell_type": "code",
   "execution_count": 4,
   "metadata": {},
   "outputs": [],
   "source": [
    "x_train = np.array([[-0.65, -0.37], [ 1.01, -0.22], [ 1.15, -1.91], [-2.19,  0.62], [-1.04, -0.63], \n",
    "[ 0.81,  0.02], [ 0.59,  0.24], [-1.98, -1.89], [-1.58, -0.2 ], [-0.24, -2.59], \n",
    "[-2.69,  0.05], [-1.5 , -1.29], [-1.5 , -1.63], [-0.89, -0.42], [-1.03, -3.47], \n",
    "[-2.13, -1.27], [-1.58, -0.69], [-0.61, -0.68], [-1.92, -3.25], [-1.29,  1.05], \n",
    "[-0.47, -0.57], [-1.51, -0.47], [-0.67, -1.59], [-0.57, -1.06], [-1.31,  0.01], \n",
    "[-0.66, -0.25], [-0.82, -1.92], [-0.74, -0.92], [-1.38, -2.3 ], [ 0.15, -4.28], \n",
    "[-2.36,  0.56], [-1.79, -0.65], [ 0.67, -0.32], [ 0.16, -1.45], [-0.4 , -0.81], \n",
    "[-3.15, -1.89], [-1.49, -2.02], [-2.89, -1.31], [-1.12, -0.17], [-1.93,  0.58], \n",
    "[-1.72, -0.33], [ 0.12,  0.17], [-0.86,  0.05], [-1.34, -1.84], [-1.61, -1.16], \n",
    "[-1.65, -1.23], [-1.43, -0.62], [-0.86, -1.04], [-1.89, -1.75], [-0.39,  1.08], \n",
    "[ 2.5 ,  0.81], [-0.36,  2.33], [-0.21,  0.53], [ 2.16, -0.48], [ 1.82,  1.07], \n",
    "[ 1.31,  2.82], [-0.25,  2.56], [ 1.96,  0.06], [ 0.82,  0.73], [ 1.3 ,  1.62], \n",
    "[-0.3 ,  1.02], [ 1.16,  2.33], [ 3.6 ,  1.4 ], [ 0.52,  0.9 ], [ 1.23,  0.13], \n",
    "[ 0.88,  0.24], [ 1.32,  1.34], [-0.14,  0.64], [ 0.39,  0.94], [ 2.09, -1.05], \n",
    "[ 1.42,  2.1 ], [ 1.22,  0.15], [-0.66, -0.02], [ 2.34,  1.85], [ 2.3 ,  1.05], \n",
    "[ 1.35,  1.09], [ 1.82,  0.53], [ 0.43,  1.06], [ 0.51,  0.64], [ 0.56,  0.76], \n",
    "[ 0.91,  0.38], [ 1.41,  1.2 ], [ 0.7 ,  1.68], [ 1.54,  0.39], [ 1.77,  3.06], \n",
    "[ 2.52,  1.39], [-0.44,  1.85], [ 0.55, -0.49], [ 1.21,  0.63], [ 0.03, -0.34], \n",
    "[-0.55,  1.31], [ 0.6 , -0.07], [ 1.  ,  2.1 ], [ 1.87, -0.76], [ 1.8 , -1.01], \n",
    "[ 2.19,  1.63], [ 0.94,  2.86], [ 1.03,  0.82], [ 1.61,  0.24], [ 0.65,  0.74]])\n",
    "\n",
    "y_train = np.array([-1, -1, -1, -1, -1, -1, -1, -1, -1, -1, -1, -1, -1, -1, -1, -1, -1, -1, -1, -1, -1, -1, -1, -1,\n",
    " -1, -1, -1, -1, -1, -1, -1, -1, -1, -1, -1, -1, -1, -1, -1, -1, -1, -1, -1, -1, -1, -1, -1, -1,\n",
    " -1, -1,  1,  1,  1,  1,  1,  1,  1,  1,  1,  1,  1,  1,  1,  1,  1,  1,  1,  1,  1,  1,  1,  1,\n",
    "  1,  1,  1,  1,  1,  1,  1,  1,  1,  1,  1,  1,  1,  1,  1,  1,  1,  1,  1,  1,  1,  1,  1,  1,\n",
    "  1,  1,  1,  1])\n"
   ]
  },
  {
   "cell_type": "code",
   "execution_count": 5,
   "metadata": {},
   "outputs": [],
   "source": [
    "# your code goes here"
   ]
  },
  {
   "cell_type": "markdown",
   "metadata": {},
   "source": [
    "### 1c. Support Vector Classifier with Linear Kernel Vs RBF Kernel\n",
    "* Consider the given `x_train` and `y_train` from `1b`\n",
    "* Plot the maximum margin classifier using Linear Kernel (C=1) and RBF Kernel (C=1)\n",
    "* Compare your plot with 1b and write your observations on \n",
    "    * Which kernel is better suited for this data and why?"
   ]
  },
  {
   "cell_type": "code",
   "execution_count": 6,
   "metadata": {},
   "outputs": [],
   "source": [
    "# your code goes here"
   ]
  },
  {
   "cell_type": "markdown",
   "metadata": {},
   "source": [
    "## Section 2: Linear Support Vector Machine"
   ]
  },
  {
   "cell_type": "markdown",
   "metadata": {},
   "source": [
    "### 2a. Implement Linear SVM on the `wdbc.csv` dataset\n",
    "* Import `wdbc.csv` as a pandas dataframe\n",
    "* Select any two features as X and `target` as y\n",
    "* Scale X values (refer: https://scikit-learn.org/stable/modules/generated/sklearn.preprocessing.StandardScaler.html)\n",
    "* Split the dataset into train and test sets (refer: https://scikit-learn.org/stable/modules/generated/sklearn.model_selection.train_test_split.html)\n",
    "* Implement linear support vector machine algorithm on the training set (refer: https://scikit-learn.org/stable/modules/generated/sklearn.svm.SVC.html)\n",
    "* Plot the decision boundary\n",
    "* Test the model on testset and calculate accuracy, precision, recall, F1 score, confusion matrix (refer: https://scikit-learn.org/stable/modules/model_evaluation.html#classification-metrics)"
   ]
  },
  {
   "cell_type": "code",
   "execution_count": 7,
   "metadata": {},
   "outputs": [],
   "source": [
    "# your code goes here\n"
   ]
  },
  {
   "cell_type": "markdown",
   "metadata": {},
   "source": [
    "### 2b. Implement Linear SVM on the `wdbc.csv` dataset with PCA\n",
    "* Import `wdbc.csv` as a pandas dataframe\n",
    "* Select any two features as X and `target` as y\n",
    "* Scale X values (refer: https://scikit-learn.org/stable/modules/generated/sklearn.preprocessing.StandardScaler.html)\n",
    "* Perform Principal Component Analysis (PCA) and select first two components (refer: https://scikit-learn.org/stable/modules/generated/sklearn.decomposition.PCA.html)\n",
    "* Split the dataset into train and test sets (refer: https://scikit-learn.org/stable/modules/generated/sklearn.model_selection.train_test_split.html)\n",
    "* Implement linear support vector machine algorithm on the training set (refer: https://scikit-learn.org/stable/modules/generated/sklearn.svm.SVC.html)\n",
    "* Plot the decision boundary\n",
    "* Test the model on testset and calculate accuracy, precision, recall, F1 score, confusion matrix (refer: https://scikit-learn.org/stable/modules/model_evaluation.html#classification-metrics)\n",
    "* Write your observations based on below:\n",
    "    * What happens to the data when you perform PCA?\n",
    "    * How did it affect the SVM performance compared to 2a?"
   ]
  },
  {
   "cell_type": "code",
   "execution_count": 8,
   "metadata": {},
   "outputs": [],
   "source": [
    "# your code goes here"
   ]
  },
  {
   "cell_type": "markdown",
   "metadata": {},
   "source": [
    "### 2c. Implement Linear SVM on the `wdbc.csv` dataset with LDA\n",
    "* Import `wdbc.csv` as a pandas dataframe\n",
    "* Select any two features as X and `target` as y\n",
    "* Scale X values (refer: https://scikit-learn.org/stable/modules/generated/sklearn.preprocessing.StandardScaler.html)\n",
    "* Perform linear Discriminant Analysis and select the first component (refer : https://scikit-learn.org/stable/modules/generated/sklearn.discriminant_analysis.LinearDiscriminantAnalysis.html#)\n",
    "* Split the dataset into trainset and testset (refer: https://scikit-learn.org/stable/modules/generated/sklearn.model_selection.train_test_split.html)\n",
    "* Implement linear support vector machine algorithm on the training set (refer: https://scikit-learn.org/stable/modules/generated/sklearn.svm.SVC.html)\n",
    "* Test the model on testset and calculate accuracy, precision, recall, F1 score, confusion matrix (refer: https://scikit-learn.org/stable/modules/model_evaluation.html#classification-metrics)\n",
    "* Write your observations based on below:\n",
    "    * What happens to the data when you perform LDA?\n",
    "    * How did it affect the SVM performance compared to 2a?\n",
    "    * How did it affect the SVM performance compared to 2b?"
   ]
  },
  {
   "cell_type": "code",
   "execution_count": 9,
   "metadata": {},
   "outputs": [],
   "source": [
    "#your code goes here"
   ]
  },
  {
   "cell_type": "markdown",
   "metadata": {},
   "source": [
    "## Section 3: Non-Linear SVM"
   ]
  },
  {
   "cell_type": "markdown",
   "metadata": {},
   "source": [
    "### 3a. Implement Non-Linear SVM on the `data.csv` dataset\n",
    "* Import `data.csv` as a pandas dataframe\n",
    "* Select any two features as X and `Class` as y\n",
    "* Scale X values (refer: https://scikit-learn.org/stable/modules/generated/sklearn.preprocessing.StandardScaler.html)\n",
    "* Split the dataset into train and test sets (refer: https://scikit-learn.org/stable/modules/generated/sklearn.model_selection.train_test_split.html)\n",
    "* Implement non-linear support vector machine algorithm on the training set (refer: https://scikit-learn.org/stable/modules/generated/sklearn.svm.LinearSVC.html#sklearn.svm.LinearSVC or https://scikit-learn.org/stable/modules/generated/sklearn.svm.SVC.html#sklearn.svm.SVC)\n",
    "* Plot the decision boundary\n",
    "* Test the model on testset and calculate accuracy, precision, recall, F1 score, confusion matrix (refer: https://scikit-learn.org/stable/modules/model_evaluation.html#classification-metrics)"
   ]
  },
  {
   "cell_type": "code",
   "execution_count": 10,
   "metadata": {},
   "outputs": [],
   "source": [
    "# your code goes here\n"
   ]
  },
  {
   "cell_type": "markdown",
   "metadata": {},
   "source": [
    "### 3b. Implement Non-Linear SVM on the `data.csv` dataset with PCA\n",
    "* Import `data.csv` as a pandas dataframe\n",
    "* Select any two features as X and `Class` as y\n",
    "* Scale X values (refer: https://scikit-learn.org/stable/modules/generated/sklearn.preprocessing.StandardScaler.html)\n",
    "* Perform Principal Component Analysis (PCA) and select first two components (refer: https://scikit-learn.org/stable/modules/generated/sklearn.decomposition.PCA.html)\n",
    "* Split the dataset into train and test sets (refer: https://scikit-learn.org/stable/modules/generated/sklearn.model_selection.train_test_split.html)\n",
    "* Implement non-linear support vector machine algorithm on the training set (refer: https://scikit-learn.org/stable/modules/generated/sklearn.svm.SVC.html#sklearn.svm.SVC)\n",
    "* Plot the decision boundary\n",
    "* Test the model on testset and calculate accuracy, precision, recall, F1 score, confusion matrix (refer: https://scikit-learn.org/stable/modules/model_evaluation.html#classification-metrics)\n",
    "* How did PCA affect the SVM performance compared to 3a?"
   ]
  },
  {
   "cell_type": "code",
   "execution_count": 11,
   "metadata": {},
   "outputs": [],
   "source": [
    "# your code goes here"
   ]
  },
  {
   "cell_type": "markdown",
   "metadata": {},
   "source": [
    "### 3c. Implement Non-Linear SVM on the `data.csv` dataset with LDA\n",
    "* Import `data.csv` as a pandas dataframe\n",
    "* Select any two features as X and `Class` as y\n",
    "* Scale X values (refer: https://scikit-learn.org/stable/modules/generated/sklearn.preprocessing.StandardScaler.html)\n",
    "* Perform Linear Discriminant Analysis (LDA) and select first component (refer : https://scikit-learn.org/stable/modules/generated/sklearn.discriminant_analysis.LinearDiscriminantAnalysis.html#)\n",
    "* Split the dataset into train and test sets (refer: https://scikit-learn.org/stable/modules/generated/sklearn.model_selection.train_test_split.html)\n",
    "* Implement non-linear support vector machine algorithm on the training set (refer: https://scikit-learn.org/stable/modules/generated/sklearn.svm.SVC.html#sklearn.svm.SVC)\n",
    "* Plot the decision boundary\n",
    "* Test the model on testset and calculate accuracy, precision, recall, F1 score, confusion matrix (refer: https://scikit-learn.org/stable/modules/model_evaluation.html#classification-metrics)\n",
    "* How did LDA affect the SVM performance compared to 3a and 3b?"
   ]
  },
  {
   "cell_type": "code",
   "execution_count": 12,
   "metadata": {},
   "outputs": [],
   "source": [
    "# your code goes here"
   ]
  },
  {
   "cell_type": "markdown",
   "metadata": {},
   "source": [
    "### 3d. Implement Linear SVM on the `data.csv` dataset\n",
    "* Import `data.csv` as a pandas dataframe\n",
    "* Select any two features as X and `Class` as y\n",
    "* Scale X values (refer: https://scikit-learn.org/stable/modules/generated/sklearn.preprocessing.StandardScaler.html)\n",
    "* Split the dataset into train and test sets (refer: https://scikit-learn.org/stable/modules/generated/sklearn.model_selection.train_test_split.html)\n",
    "* Implement linear support vector machine algorithm on the training set\n",
    "* Plot the decision boundary\n",
    "* Test the model on testset and calculate accuracy, precision, recall, F1 score, confusion matrix (refer: https://scikit-learn.org/stable/modules/model_evaluation.html#classification-metrics)\n",
    "* Write your observations about linear kernel vs Non-linear kernel for this data and which one do you think is better and why?"
   ]
  },
  {
   "cell_type": "code",
   "execution_count": 13,
   "metadata": {},
   "outputs": [],
   "source": [
    "# your code goes here"
   ]
  }
 ],
 "metadata": {
  "kernelspec": {
   "display_name": "Python 3 (ipykernel)",
   "language": "python",
   "name": "python3"
  },
  "language_info": {
   "codemirror_mode": {
    "name": "ipython",
    "version": 3
   },
   "file_extension": ".py",
   "mimetype": "text/x-python",
   "name": "python",
   "nbconvert_exporter": "python",
   "pygments_lexer": "ipython3",
   "version": "3.11.4"
  }
 },
 "nbformat": 4,
 "nbformat_minor": 4
}
